{
  "nbformat": 4,
  "nbformat_minor": 0,
  "metadata": {
    "kernelspec": {
      "display_name": "Python 3",
      "language": "python",
      "name": "python3"
    },
    "language_info": {
      "codemirror_mode": {
        "name": "ipython",
        "version": 3
      },
      "file_extension": ".py",
      "mimetype": "text/x-python",
      "name": "python",
      "nbconvert_exporter": "python",
      "pygments_lexer": "ipython3",
      "version": "3.5.2"
    },
    "colab": {
      "name": "jzmendezlAlgorithmicToolboxWeek2QRdecomposition.ipynb",
      "provenance": [],
      "collapsed_sections": []
    }
  },
  "cells": [
    {
      "cell_type": "code",
      "metadata": {
        "collapsed": true,
        "id": "-fDnGydM7Dhw"
      },
      "source": [
        "import numpy as np\n",
        "\n",
        "from numpy.testing import assert_allclose"
      ],
      "execution_count": 3,
      "outputs": []
    },
    {
      "cell_type": "markdown",
      "metadata": {
        "id": "NIX6hIKa7Dhy"
      },
      "source": [
        "# Part I. Construct a Householder reflection of a vector."
      ]
    },
    {
      "cell_type": "markdown",
      "metadata": {
        "id": "9mS2M1AT7Dhy"
      },
      "source": [
        "Given a vector $\\mathbf{x}$, and a plane with a normal vector $\\mathbf{u}$, the Householder transformation reflects $\\mathbf{x}$ about the plane.\n",
        "\n",
        "The matrix of the Householder transformation is\n",
        "\n",
        "$$\n",
        "\\mathbf{H} = \\mathbf{1} - 2 \\mathbf{u} \\mathbf{u}^T\n",
        "$$\n",
        "\n",
        "Given two equal-length vectors $\\mathbf{x}$ and $\\mathbf{y}$, a rotation which brings $\\mathbf{x}$ to $\\mathbf{y}$ is a Householder transform with\n",
        "\n",
        "$$\n",
        "\\mathbf{u} = \\frac{\\mathbf{x} - \\mathbf{y}}{\\left|\\mathbf{x} - \\mathbf{y}\\right|}\n",
        "$$"
      ]
    },
    {
      "cell_type": "markdown",
      "metadata": {
        "id": "fGZJu9-o7Dhz"
      },
      "source": [
        "Write a function which rotates a given vector, $\\mathbf{x} = (x_1, \\dots, x_n)$ into $\\mathbf{y} = (\\left|\\mathbf{x}\\right|, 0, \\dots, 0)^T$ using a Householder transformation."
      ]
    },
    {
      "cell_type": "code",
      "metadata": {
        "collapsed": true,
        "id": "V3XZqBM47Dhz"
      },
      "source": [
        "def householder(vec):\n",
        "    \"\"\"Construct a Householder reflection to zero out 2nd and further components of a vector.\n",
        "\n",
        "    Parameters\n",
        "    ----------\n",
        "    vec : array-like of floats, shape (n,)\n",
        "        Input vector\n",
        "    \n",
        "    Returns\n",
        "    -------\n",
        "    outvec : array of floats, shape (n,)\n",
        "        Transformed vector, with ``outvec[1:]==0`` and ``|outvec| == |vec|``\n",
        "    H : array of floats, shape (n, n)\n",
        "        Orthogonal matrix of the Householder reflection\n",
        "    \"\"\"\n",
        "    vec = np.asarray(vec, dtype=float)\n",
        "    if vec.ndim != 1:\n",
        "        raise ValueError(\"vec.ndim = %s, expected 1\" % vec.ndim)\n",
        "    \n",
        "    # ... ENTER YOUR CODE HERE ...\n",
        "\n",
        "    u = vec.copy()\n",
        "    u[0] = (-vec[1:] ** 2).sum()/(vec[0] + np.linalg.norm(vec, ord = 2))\n",
        "    u /= np.linalg.norm(u, ord = 2)\n",
        "\n",
        "    H = np.eye(vec.shape[0])\n",
        "    H -= 2*u.reshape(-1, 1) @ u.reshape(1, -1)\n",
        "\n",
        "    return np.dot(H, vec), H"
      ],
      "execution_count": 6,
      "outputs": []
    },
    {
      "cell_type": "markdown",
      "metadata": {
        "id": "BPAwbc857Dhz"
      },
      "source": [
        "Test your function using tests below:"
      ]
    },
    {
      "cell_type": "code",
      "metadata": {
        "collapsed": true,
        "id": "xbxEswTU7Dhz"
      },
      "source": [
        "# Test I.1 (10% of the total grade).\n",
        "\n",
        "v = np.array([1, 2, 3])\n",
        "v1, h = householder(v)\n",
        "\n",
        "assert_allclose(np.dot(h, v1), v)\n",
        "assert_allclose(np.dot(h, v), v1)"
      ],
      "execution_count": null,
      "outputs": []
    },
    {
      "cell_type": "code",
      "metadata": {
        "collapsed": true,
        "id": "xI6bAKPv7Dh0"
      },
      "source": [
        "# Test I.2 (10% of the total grade).\n",
        "\n",
        "rndm = np.random.RandomState(1234)\n",
        "\n",
        "vec = rndm.uniform(size=7)\n",
        "v1, h = householder(vec)\n",
        "\n",
        "assert_allclose(np.dot(h, v1), vec)"
      ],
      "execution_count": null,
      "outputs": []
    },
    {
      "cell_type": "markdown",
      "metadata": {
        "id": "5sNhI2VY7Dh0"
      },
      "source": [
        "# Part II. Compute the $\\mathrm{QR}$ decomposition of a matrix.\n",
        "\n",
        "Given a rectangular $m\\times n$ matrix $\\mathbf{A}$, construct a Householder reflector matrix $\\mathbf{H}_1$ which transforms the first column of $\\mathbf{A}$ (and call the result $\\mathbf{A}^{(1)}$)\n",
        "\n",
        "$$\n",
        "\\mathbf{H}_1 \\mathbf{A} =%\n",
        "\\begin{pmatrix}\n",
        "\\times & \\times & \\times & \\dots & \\times \\\\\n",
        "0      & \\times & \\times & \\dots & \\times \\\\\n",
        "0      & \\times & \\times & \\dots & \\times \\\\\n",
        "&& \\dots&& \\\\\n",
        "0      & \\times & \\times & \\dots & \\times \\\\\n",
        "\\end{pmatrix}%\n",
        "\\equiv \\mathbf{A}^{(1)}\\;.\n",
        "$$\n",
        "\n",
        "Now consider the lower-right submatrix of $\\mathbf{A}^{(1)}$, and construct a Householder reflector which annihilates the second column of $\\mathbf{A}$:\n",
        "\n",
        "$$\n",
        "\\mathbf{H}_2 \\mathbf{A}^{(1)} =%\n",
        "\\begin{pmatrix}\n",
        "\\times & \\times & \\times & \\dots & \\times \\\\\n",
        "0      & \\times & \\times & \\dots & \\times \\\\\n",
        "0      & 0      & \\times & \\dots & \\times \\\\\n",
        "&& \\dots&& \\\\\n",
        "0      & 0      & \\times & \\dots & \\times \\\\\n",
        "\\end{pmatrix}%\n",
        "\\equiv \\mathbf{A}^{(2)} \\;.\n",
        "$$\n",
        "\n",
        "Repeating the process $n-1$ times, we obtain\n",
        "\n",
        "$$\n",
        "\\mathbf{H}_{n-1} \\cdots \\mathbf{H}_2 \\mathbf{H}_1 \\mathbf{A} = \\mathbf{R} \\;,\n",
        "$$\n",
        "\n",
        "with $\\mathbf{R}$ an upper triangular matrix. Since each $\\mathbf{H}_k$ is orthogonal, so is their product. The inverse of an orthogonal matrix is orthogonal. Hence the process generates the $\\mathrm{QR}$ decomposition of $\\mathbf{A}$. "
      ]
    },
    {
      "cell_type": "markdown",
      "metadata": {
        "id": "kOvt05qj7Dh1"
      },
      "source": [
        "Write a function, which receives a recangular matrix, $A$, and returns the Q and R factors of the $QR$ factorization of $A$."
      ]
    },
    {
      "cell_type": "code",
      "metadata": {
        "collapsed": true,
        "id": "0kiEfnzb7Dh1"
      },
      "source": [
        "def qr_decomp(a):\n",
        "    \"\"\"Compute the QR decomposition of a matrix.\n",
        "    \n",
        "    Parameters\n",
        "    ----------\n",
        "    a : ndarray, shape(m, n)\n",
        "        The input matrix\n",
        "    \n",
        "    Returns\n",
        "    -------\n",
        "    q : ndarray, shape(m, m)\n",
        "        The orthogonal matrix\n",
        "    r : ndarray, shape(m, n)\n",
        "        The upper triangular matrix\n",
        "        \n",
        "    Examples\n",
        "    --------\n",
        "    >>> a = np.random.random(size=(3, 5))\n",
        "    >>> q, r = qr_decomp(a)\n",
        "    >>> np.assert_allclose(np.dot(q, r), a)\n",
        "    \n",
        "    \"\"\"\n",
        "    a1 = np.array(a, copy=True, dtype=float)\n",
        "    m, n = a1.shape\n",
        "    \n",
        "    # ... ENTER YOUR CODE HERE ...\n",
        "\n",
        "    R = a1\n",
        "    Q = np.eye(m)\n",
        "\n",
        "    for i in range(n):\n",
        "      _, H = householder(R[i: , i])\n",
        "      h = np.eye(m)\n",
        "      h[i: ,i: ] = H\n",
        "\n",
        "      R = h @ R\n",
        "      Q = Q @ h\n",
        "      \n",
        "    return Q, R"
      ],
      "execution_count": null,
      "outputs": []
    },
    {
      "cell_type": "code",
      "metadata": {
        "collapsed": true,
        "id": "uzT4x9kO7Dh1"
      },
      "source": [
        "# Might want to turn this on for prettier printing: zeros instead of `1e-16` etc\n",
        "\n",
        "np.set_printoptions(suppress=True)"
      ],
      "execution_count": null,
      "outputs": []
    },
    {
      "cell_type": "code",
      "metadata": {
        "collapsed": true,
        "id": "Z7cpwbYm7Dh2"
      },
      "source": [
        "# Test II.1 (20% of the total grade)\n",
        "\n",
        "rndm = np.random.RandomState(1234)\n",
        "a = rndm.uniform(size=(5, 3))\n",
        "q, r = qr_decomp(a)\n",
        "\n",
        "# test that Q is indeed orthogonal\n",
        "assert_allclose(np.dot(q, q.T), np.eye(5), atol=1e-10)\n",
        "\n",
        "# test the decomposition itself\n",
        "assert_allclose(np.dot(q, r), a)"
      ],
      "execution_count": null,
      "outputs": []
    },
    {
      "cell_type": "markdown",
      "metadata": {
        "id": "rON5-6JE7Dh2"
      },
      "source": [
        "Now compare your decompositions to the library function (which actually wraps the corresponding LAPACK functions)"
      ]
    },
    {
      "cell_type": "code",
      "metadata": {
        "collapsed": true,
        "id": "V2EXZa4U7Dh2"
      },
      "source": [
        "from scipy.linalg import qr\n",
        "qq, rr = qr(a)\n",
        "\n",
        "assert_allclose(np.dot(qq, rr), a)"
      ],
      "execution_count": null,
      "outputs": []
    },
    {
      "cell_type": "markdown",
      "metadata": {
        "id": "CtIAt2en7Dh2"
      },
      "source": [
        "Check if your `q` and `r` agree with `qq` and `rr`. Explain."
      ]
    },
    {
      "cell_type": "markdown",
      "metadata": {
        "id": "DBGOWlVo7Dh3"
      },
      "source": [
        "*Enter your explanation here* (10% of the total grade, peer-graded)"
      ]
    },
    {
      "cell_type": "code",
      "metadata": {
        "colab": {
          "base_uri": "https://localhost:8080/"
        },
        "id": "89vAk4s_-89d",
        "outputId": "3a4d7d17-b7ec-4b00-882b-3839a4e26407"
      },
      "source": [
        "q"
      ],
      "execution_count": null,
      "outputs": [
        {
          "output_type": "execute_result",
          "data": {
            "text/plain": [
              "array([[ 0.13665049,  0.53601299, -0.09369752,  0.7697136 ,  0.30459557],\n",
              "       [ 0.56035895,  0.0935397 , -0.53326881,  0.01839528, -0.62652547],\n",
              "       [ 0.19725922,  0.65948912,  0.60068463, -0.32384673, -0.24589462],\n",
              "       [ 0.62498418, -0.50418303,  0.52144688,  0.28453698,  0.04822969],\n",
              "       [ 0.48765568,  0.12171264, -0.27224305, -0.47049398,  0.67223293]])"
            ]
          },
          "metadata": {
            "tags": []
          },
          "execution_count": 16
        }
      ]
    },
    {
      "cell_type": "code",
      "metadata": {
        "colab": {
          "base_uri": "https://localhost:8080/"
        },
        "id": "Hu-57-EI-_RE",
        "outputId": "ba8365b9-73b3-4a69-d6f4-d716ee52f0b4"
      },
      "source": [
        "qq"
      ],
      "execution_count": null,
      "outputs": [
        {
          "output_type": "execute_result",
          "data": {
            "text/plain": [
              "array([[-0.13665049,  0.53601299,  0.09369752,  0.661619  , -0.49749149],\n",
              "       [-0.56035895,  0.0935397 ,  0.53326881, -0.52477245, -0.34276292],\n",
              "       [-0.19725922,  0.65948912, -0.60068463, -0.37879015,  0.14784752],\n",
              "       [-0.62498418, -0.50418303, -0.52144688,  0.18967657, -0.21750907],\n",
              "       [-0.48765568,  0.12171264,  0.27224305,  0.32774225,  0.75222783]])"
            ]
          },
          "metadata": {
            "tags": []
          },
          "execution_count": 17
        }
      ]
    },
    {
      "cell_type": "code",
      "metadata": {
        "colab": {
          "base_uri": "https://localhost:8080/"
        },
        "id": "hWh3frUd_AhO",
        "outputId": "d2da962f-70e3-4824-efd6-0a145ff3f583"
      },
      "source": [
        "r"
      ],
      "execution_count": null,
      "outputs": [
        {
          "output_type": "execute_result",
          "data": {
            "text/plain": [
              "array([[ 1.40152769,  1.2514379 ,  0.89523615],\n",
              "       [-0.        ,  0.84158252,  0.68447942],\n",
              "       [ 0.        , -0.        ,  0.5496046 ],\n",
              "       [-0.        ,  0.        , -0.        ],\n",
              "       [-0.        , -0.        ,  0.        ]])"
            ]
          },
          "metadata": {
            "tags": []
          },
          "execution_count": 18
        }
      ]
    },
    {
      "cell_type": "code",
      "metadata": {
        "colab": {
          "base_uri": "https://localhost:8080/"
        },
        "id": "EK8mpofU_CFw",
        "outputId": "d93ef48e-2da2-4b5d-caa0-c8c8810d0ccf"
      },
      "source": [
        "rr"
      ],
      "execution_count": null,
      "outputs": [
        {
          "output_type": "execute_result",
          "data": {
            "text/plain": [
              "array([[-1.40152769, -1.2514379 , -0.89523615],\n",
              "       [ 0.        ,  0.84158252,  0.68447942],\n",
              "       [ 0.        ,  0.        , -0.5496046 ],\n",
              "       [ 0.        ,  0.        ,  0.        ],\n",
              "       [ 0.        ,  0.        ,  0.        ]])"
            ]
          },
          "metadata": {
            "tags": []
          },
          "execution_count": 19
        }
      ]
    },
    {
      "cell_type": "markdown",
      "metadata": {
        "id": "TyzuXKut_uqt"
      },
      "source": [
        "Como  podemos ver las dos ultimas columnas en $q$ y $qq$ difieren demasiado, esto se debe a que las dos ultimas filas de $r$ tienen solo ceros.\n",
        "\n",
        "También se puede observar que las columnas $1$ y $3$ de las matrices $q$ y $qq$  tienen los signos cambiados y por ende la fila $1$ y $3$ de la matriz $r$ y $rr$ tambien tienen los signos cambiados; Esto debido a que la libreria scipy aveces no toma  $  {y} = (\\left |  {x} \\right |, 0, \\dots, 0) ^ T $, sino $ {y} = (- \\left |  {x} \\right |, 0, \\dots, 0) ^ T $ lo que hace que sea distinta la matriz de rotacion."
      ]
    },
    {
      "cell_type": "markdown",
      "metadata": {
        "id": "897MXxTD7Dh3"
      },
      "source": [
        "# Part III. Avoid forming Householder matrices explicitly."
      ]
    },
    {
      "cell_type": "markdown",
      "metadata": {
        "id": "o70gCcu17Dh3"
      },
      "source": [
        "Note the special structure of the Householder matrices: A reflector $\\mathbf{H}$ is completely specified by a reflection vector $\\mathbf{u}$. Also note that the computational cost of applying a reflector to a matrix strongly depends on the order of operations:\n",
        "\n",
        "$$\n",
        "\\left( \\mathbf{u} \\mathbf{u}^T \\right) \\mathbf{A}  \\qquad \\textrm{is } O(m^2 n)\\;,\n",
        "$$\n",
        "while\n",
        "$$\n",
        "\\mathbf{u} \\left( \\mathbf{u}^T \\mathbf{A} \\right) \\qquad \\textrm{is } O(mn)\n",
        "$$\n",
        "\n",
        "Thus, it seems to make sense to *avoid* forming the $\\mathbf{H}$ matrices. Instead, one stores the reflection vectors, $\\mathbf{u}$, themselves, and provides a way of multiplying an arbitrary matrix by $\\mathbf{Q}^T$, e.g., as a standalone function (or a class)."
      ]
    },
    {
      "cell_type": "markdown",
      "metadata": {
        "id": "2hcyyDjs7Dh3"
      },
      "source": [
        "Write a function which constructs the `QR` decomposition of a matrix *without ever forming the* $\\mathbf{H}$ matrices, and returns the $\\mathbf{R}$ matrix and reflection vectors. \n",
        "\n",
        "Write a second function, which uses reflection vectors to multiply a matrix with $\\mathbf{Q}^T$. Make sure to include enough comments for a marker to follow your implementation, and add tests. \n",
        "\n",
        "(Peer-graded, 40% of the total grade)"
      ]
    },
    {
      "cell_type": "code",
      "metadata": {
        "collapsed": true,
        "id": "J0fracIL7Dh3"
      },
      "source": [
        "class QR:\n",
        "    \n",
        "    def __init__(self, A):\n",
        "        m, n = A.shape\n",
        "        self.R = np.array(A, copy=True, dtype=float)\n",
        "        self.Q = []\n",
        "    \n",
        "    \n",
        "        for i in range(n):\n",
        "            u = self._household(self.R[i:, i])\n",
        "            self.Q.append(np.concatenate((np.zeros(i), u)))\n",
        "            self.R -= 2 * self.Q[-1].reshape(-1, 1) @ (self.Q[-1].reshape(1, -1) @ self.R)\n",
        "        \n",
        "        \n",
        "    def _household(self, vec):\n",
        "        vec = np.asarray(vec, dtype=float)\n",
        "        if vec.ndim != 1:\n",
        "            raise ValueError(\"vec.ndim = %s, expected 1\" % vec.ndim)\n",
        "        \n",
        "        u= vec.copy()\n",
        "        u[0] = (-vec[1:] ** 2).sum() / (vec[0] + np.linalg.norm(vec, ord = 2))\n",
        "        u /= np.linalg.norm(u, ord = 2)\n",
        "        return u\n",
        "    \n",
        "    def Q_mul_L(self, X):\n",
        "        \n",
        "        A = np.array(X, copy=True, dtype=float)\n",
        "        \n",
        "        for u in self.Q[::-1]:\n",
        "            A -= 2 * u.reshape(-1, 1) @ (u.reshape(1, -1) @ A)\n",
        "            \n",
        "        return A\n",
        "    \n",
        "    def QT_mul_l(self, X):\n",
        "        \n",
        "        A = np.array(X, copy=True, dtype=float)\n",
        "        \n",
        "        for u in self.Q:\n",
        "            A -= 2 * u.reshape(-1, 1) @ (u.reshape(1, -1) @ A)\n",
        "            \n",
        "        return A"
      ],
      "execution_count": null,
      "outputs": []
    },
    {
      "cell_type": "code",
      "metadata": {
        "id": "-mkSJRmVCToh"
      },
      "source": [
        "rnd = np.random.RandomState(100)\n",
        "a = rnd.uniform(size=(7, 4))\n",
        "qrr = QR(a)\n",
        "\n",
        "assert_allclose(qrr.Q_mul_L(qrr.R), a)"
      ],
      "execution_count": null,
      "outputs": []
    },
    {
      "cell_type": "code",
      "metadata": {
        "id": "zzZ0GFeuX6VL"
      },
      "source": [
        "def qr_decomp(a):\n",
        "    \"\"\"Compute the QR decomposition of a matrix.\n",
        "    \n",
        "    Parameters\n",
        "    ----------\n",
        "    a : ndarray, shape(m, n)\n",
        "        The input matrix\n",
        "    \n",
        "    Returns\n",
        "    -------\n",
        "    q : ndarray, shape(m, m)\n",
        "        The orthogonal matrix\n",
        "    r : ndarray, shape(m, n)\n",
        "        The upper triangular matrix\n",
        "        \n",
        "    Examples\n",
        "    --------\n",
        "    >>> a = np.random.random(size=(3, 5))\n",
        "    >>> q, r = qr_decomp(a)\n",
        "    >>> np.assert_allclose(np.dot(q, r), a)\n",
        "    \n",
        "    \"\"\"\n",
        "    a1 = np.array(a, copy=True, dtype=float)\n",
        "    m, n = a1.shape\n",
        "    \n",
        "    # ... ENTER YOUR CODE HERE ...\n",
        "\n",
        "    R = a1\n",
        "    Q = np.eye(m, dtype=float)\n",
        "\n",
        "    for i in range(0, int(n)):\n",
        "      v, H = householder(R[i: , i])\n",
        "      h = np.eye(m, dtype=float)\n",
        "      h[i: ,i: ] = H\n",
        "      Q = Q @ h\n",
        "      R = h @ R\n",
        "\n",
        "      \n",
        "    return Q, Q.T"
      ],
      "execution_count": 9,
      "outputs": []
    },
    {
      "cell_type": "code",
      "metadata": {
        "id": "pcpcm-3EY5ux"
      },
      "source": [
        "rnd = np.random.RandomState(100)\n",
        "a = rnd.uniform(size=(5, 3))\n",
        "q, r = qr_decomp(a)\n",
        "\n",
        "assert_allclose(np.dot(q, q.T), np.eye(5), atol=1e-10)"
      ],
      "execution_count": 14,
      "outputs": []
    }
  ]
}