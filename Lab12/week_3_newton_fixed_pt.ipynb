{
  "nbformat": 4,
  "nbformat_minor": 0,
  "metadata": {
    "kernelspec": {
      "display_name": "Python 3",
      "language": "python",
      "name": "python3"
    },
    "language_info": {
      "codemirror_mode": {
        "name": "ipython",
        "version": 3
      },
      "file_extension": ".py",
      "mimetype": "text/x-python",
      "name": "python",
      "nbconvert_exporter": "python",
      "pygments_lexer": "ipython3",
      "version": "3.5.2"
    },
    "colab": {
      "name": "week_3_newton_fixed_pt.ipynb",
      "provenance": [],
      "collapsed_sections": []
    }
  },
  "cells": [
    {
      "cell_type": "markdown",
      "metadata": {
        "id": "VmZWYzJYd5Ub"
      },
      "source": [
        "# Part I. Root-finding. Newton's iteration."
      ]
    },
    {
      "cell_type": "markdown",
      "metadata": {
        "id": "ziCWevkQd5Ud"
      },
      "source": [
        "Write a function which performs Newton's iteration for a given function $f(x)$ with known derivative $f'(x)$. Your function should find the root of $f(x)$ with a predefined absolute accuracy $\\epsilon$. "
      ]
    },
    {
      "cell_type": "code",
      "metadata": {
        "collapsed": true,
        "id": "zD6Ljksnd5Ud"
      },
      "source": [
        "def newton_iteration(f, fder, x0, eps=1e-5, maxiter=1000):\n",
        "    \"\"\"Find a root of $f(x) = 0$ via Newton's iteration starting from x0.\n",
        "    \n",
        "    Parameters\n",
        "    ----------\n",
        "    f : callable\n",
        "        The function to find a root of.\n",
        "    fder : callable\n",
        "        The derivative of `f`.\n",
        "    x0 : float\n",
        "        Initial value for the Newton's iteration.\n",
        "    eps : float\n",
        "        The target accuracy. \n",
        "        The iteration stops when the distance between successive iterates is below `eps`.\n",
        "        Default is 1e-5.\n",
        "    maxiter : int\n",
        "        The maximum number of iterations (default is 1000.)\n",
        "        Iterations terminate if the number of iterations exceeds `maxiter`.\n",
        "        This parameter is only needed to avoid infinite loops if iterations wander off.\n",
        "        \n",
        "    Returns\n",
        "    -------\n",
        "    x : float\n",
        "        The estimate for the root.\n",
        "    niter : int\n",
        "        The number of iterations.\n",
        "    \"\"\"\n",
        "    # ... ENTER YOUR CODE HERE ...\n",
        "    x1= x0 - f(x0)/fder(x0)\n",
        "    niter = 0\n",
        "    for _ in range(maxiter):\n",
        "        if ( (abs(x1 - x0) <= eps) or (abs(f(x1)) <= 2 ** (-52)) ):\n",
        "          niter += 1\n",
        "          break\n",
        "        x0 = x1\n",
        "        x1 = x1 - f(x1)/fder(x1)\n",
        "    \n",
        "    return x1, niter\n",
        "    "
      ],
      "execution_count": 2,
      "outputs": []
    },
    {
      "cell_type": "markdown",
      "metadata": {
        "id": "wt0hdopEd5Ue"
      },
      "source": [
        "### Test I.1 \n",
        "\n",
        "Test your implementation on a simple example, $f(x) = x^2 - 1$ or similar. (20% of the total grade)"
      ]
    },
    {
      "cell_type": "code",
      "metadata": {
        "collapsed": true,
        "id": "p-0C_Lh4d5Ue",
        "colab": {
          "base_uri": "https://localhost:8080/",
          "height": 265
        },
        "outputId": "30d8dba8-64ff-4216-921e-1be3e0358c08"
      },
      "source": [
        "# ... ENTER YOUR CODE HERE ...\n",
        "import numpy as np\n",
        "import matplotlib.pyplot as plt\n",
        "\n",
        "f = lambda x: (x ** 2) - 1\n",
        "fd = lambda x: 2 * x\n",
        "x = np.arange(-2, 4, 0.01)\n",
        "zero = np.zeros(len(x))\n",
        "\n",
        "fx = f(x)\n",
        "fdx =  fd(x)\n",
        "\n",
        "plt.plot(x, fx,label='f(x)')\n",
        "plt.plot(x, fdx,label=\"f'(x)\")\n",
        "plt.plot(x, zero )\n",
        "plt.legend()\n",
        "plt.show()\n",
        "plt.show()"
      ],
      "execution_count": 4,
      "outputs": [
        {
          "output_type": "display_data",
          "data": {
            "image/png": "[encoded data removed]",
            "text/plain": [
              "<Figure size 432x288 with 1 Axes>"
            ]
          },
          "metadata": {
            "tags": [],
            "needs_background": "light"
          }
        }
      ]
    },
    {
      "cell_type": "code",
      "metadata": {
        "colab": {
          "base_uri": "https://localhost:8080/"
        },
        "id": "pF68jiR6BMqw",
        "outputId": "3b0d6d9f-c267-4304-bb7d-479957ea940c"
      },
      "source": [
        "f = lambda x: (x ** 2) - 1\n",
        "fder = lambda x: 2 * x\n",
        "x0 = -10\n",
        "\n",
        "newton_iteration(f, fder, x0, eps=1e-5, maxiter=1000)"
      ],
      "execution_count": 11,
      "outputs": [
        {
          "output_type": "execute_result",
          "data": {
            "text/plain": [
              "(-1.0000000000139897, 1)"
            ]
          },
          "metadata": {
            "tags": []
          },
          "execution_count": 11
        }
      ]
    },
    {
      "cell_type": "markdown",
      "metadata": {
        "id": "YGVIEna-d5Ue"
      },
      "source": [
        "### Test I.2\n",
        "\n",
        "Now consider a function which has a multiple root. Take $f(x) = (x^2 - 1)^2$ as an example. Implement a modified Newton's iteraion,\n",
        "\n",
        "$$\n",
        "x_{n+1} = x_{n} - m \\frac{f(x_n)}{f'(x_n)}\n",
        "$$\n",
        "\n",
        "and vary $m= 1, 2, 3, 4, 5$. Check the number of iterations required for convergence within a fixed $\\epsilon$. Are your observations consistent with the expectation that the convergence is quadratic is $m$ equals the multiplicity of the root, and is linear otherwise? (40% of the total grade)"
      ]
    },
    {
      "cell_type": "code",
      "metadata": {
        "collapsed": true,
        "id": "YfsyHGmQd5Uf"
      },
      "source": [
        "# ... ENTER YOUR CODE HERE ...\n",
        "def newton_multiplicity_iteration(f, fder, x0, m = 1, eps=1e-5, maxiter=1000):\n",
        "\n",
        "    x1= x0 - m * f(x0)/fder(x0)\n",
        "    niter = 0\n",
        "\n",
        "    for _ in range(maxiter):\n",
        "        if( (abs(x1-x0)<=eps) or (abs(f(x1)) <= 2**(-52)) ):\n",
        "          niter += 1\n",
        "          break\n",
        "        x0 = x1\n",
        "        x1 = x1 - m*f(x1)/fder(x1)\n",
        "       \n",
        "    \n",
        "    return x1, niter"
      ],
      "execution_count": 18,
      "outputs": []
    },
    {
      "cell_type": "code",
      "metadata": {
        "colab": {
          "base_uri": "https://localhost:8080/",
          "height": 268
        },
        "id": "vR9dI5N9Cqz-",
        "outputId": "73a4ccc5-c67b-4bb5-c169-1bc7584f45ce"
      },
      "source": [
        "import numpy as np\n",
        "import matplotlib.pyplot as plt\n",
        "\n",
        "f = lambda x: ((x**2) - 1) ** 2 \n",
        "fd = lambda x: 4 * x *((x ** 2) - 1)\n",
        "\n",
        "x = np.arange(-2, 4, 0.01)\n",
        "zero = np.zeros(len(x))\n",
        "\n",
        "fx = f(x)\n",
        "fdx =  fd(x)\n",
        "\n",
        "plt.plot(x, fx,label='f(x)')\n",
        "plt.plot(x, fdx,label=\"f'(x)\")\n",
        "plt.plot(x, zero )\n",
        "plt.legend()\n",
        "plt.show()"
      ],
      "execution_count": 14,
      "outputs": [
        {
          "output_type": "display_data",
          "data": {
            "image/png": "[encoded data removed]",
            "text/plain": [
              "<Figure size 432x288 with 1 Axes>"
            ]
          },
          "metadata": {
            "tags": [],
            "needs_background": "light"
          }
        }
      ]
    },
    {
      "cell_type": "code",
      "metadata": {
        "colab": {
          "base_uri": "https://localhost:8080/"
        },
        "id": "I6BpFJO7DPnm",
        "outputId": "bbb1cde5-48b9-4825-a4be-7251b8c414e2"
      },
      "source": [
        "f = lambda x: ((x**2) - 1) ** 2 \n",
        "fder = lambda x: 4 * x *((x ** 2) - 1)\n",
        "x0 = 3\n",
        "\n",
        "newton_multiplicity_iteration(f, fder, x0, m=1, eps=1e-5, maxiter=1000)"
      ],
      "execution_count": 20,
      "outputs": [
        {
          "output_type": "execute_result",
          "data": {
            "text/plain": [
              "(1.0000061918252963, 1)"
            ]
          },
          "metadata": {
            "tags": []
          },
          "execution_count": 20
        }
      ]
    },
    {
      "cell_type": "markdown",
      "metadata": {
        "id": "0Cq4t3CMd5Uf"
      },
      "source": [
        "# Part II. Fixed-point iteration"
      ]
    },
    {
      "cell_type": "markdown",
      "metadata": {
        "id": "cQoDPPkyd5Uf"
      },
      "source": [
        "Consider the following equation:\n",
        "\n",
        "$$\n",
        "\\sqrt{x} = \\cos{x}\n",
        "$$\n",
        "\n",
        "Plot the left-hand side and right-hand side of this equation, and localize the root graphically. Estimate the location of the root by visual inspection of the plot.\n",
        "\n",
        "Write a function which finds the solution using fixed-point iteration up to a predefined accuracy $\\epsilon$. Compare the result to an estimate from a visual inspection.\n",
        "\n",
        "Next, rewrite the fixed-point problem in the form\n",
        "\n",
        "$$\n",
        "x = x - \\alpha f(x)\n",
        "$$\n",
        "\n",
        "where $\\alpha$ is the free parameter. Check the dependence of the number of iterations required for a given $\\epsilon$ on $\\alpha$. Compare your results to an expectation that the optimal value of $\\alpha$ is given by \n",
        "\n",
        "$$\n",
        "\\alpha = \\frac{2}{m + M}\n",
        "$$\n",
        "\n",
        "where $0 < m < |f'(x)| < M$ over the localization interval. (40% of the total grade)"
      ]
    },
    {
      "cell_type": "code",
      "metadata": {
        "collapsed": true,
        "id": "SeVjulO4d5Uf",
        "colab": {
          "base_uri": "https://localhost:8080/",
          "height": 353
        },
        "outputId": "12c53361-1904-44b3-fac0-96154e3ce65c"
      },
      "source": [
        "# ... ENTER YOUR CODE HERE ...\n",
        "import numpy as np\n",
        "import matplotlib.pyplot as plt\n",
        "from matplotlib import pyplot\n",
        "\n",
        "x = np.linspace(-3, 3, 500)\n",
        "\n",
        "pyplot.plot(x, np.sqrt(x))\n",
        "pyplot.plot(x, np.cos(x))\n",
        "plt.legend([1, 2], labels=[\"sqrt\", \"cos\"])\n",
        "\n",
        "pyplot.axhline(0, color=\"black\")\n",
        "pyplot.axvline(0, color=\"black\")\n",
        "\n",
        "\n",
        "plt.show()"
      ],
      "execution_count": 27,
      "outputs": [
        {
          "output_type": "stream",
          "text": [
            "/usr/local/lib/python3.7/dist-packages/ipykernel_launcher.py:8: RuntimeWarning: invalid value encountered in sqrt\n",
            "  \n",
            "/usr/local/lib/python3.7/dist-packages/ipykernel_launcher.py:10: UserWarning: You have mixed positional and keyword arguments, some input may be discarded.\n",
            "  # Remove the CWD from sys.path while we load stuff.\n"
          ],
          "name": "stderr"
        },
        {
          "output_type": "display_data",
          "data": {
            "image/png": "[encoded data removed]",
            "text/plain": [
              "<Figure size 432x288 with 1 Axes>"
            ]
          },
          "metadata": {
            "tags": [],
            "needs_background": "light"
          }
        }
      ]
    },
    {
      "cell_type": "code",
      "metadata": {
        "colab": {
          "base_uri": "https://localhost:8080/",
          "height": 323
        },
        "id": "HEAgP0k-GOtw",
        "outputId": "979a7ad0-dc9d-42ba-8101-985859765731"
      },
      "source": [
        "import numpy as np\n",
        "import matplotlib.pyplot as plt\n",
        "\n",
        "x = np.linspace(0.6, 0.7, 500)\n",
        "plt.plot(x, np.sqrt(x))\n",
        "plt.plot(x, np.cos(x))\n",
        "plt.legend([1, 2], labels=[\"sqrt\", \"cos\"])\n",
        "plt.show()"
      ],
      "execution_count": 29,
      "outputs": [
        {
          "output_type": "stream",
          "text": [
            "/usr/local/lib/python3.7/dist-packages/ipykernel_launcher.py:7: UserWarning: You have mixed positional and keyword arguments, some input may be discarded.\n",
            "  import sys\n"
          ],
          "name": "stderr"
        },
        {
          "output_type": "display_data",
          "data": {
            "image/png": "[encoded data removed]",
            "text/plain": [
              "<Figure size 432x288 with 1 Axes>"
            ]
          },
          "metadata": {
            "tags": [],
            "needs_background": "light"
          }
        }
      ]
    },
    {
      "cell_type": "markdown",
      "metadata": {
        "id": "YoNDDiHHG2dO"
      },
      "source": [
        "$$f(x)=\\sqrt{x} − \\cos{x}$$\n",
        "\n",
        "$$f′(x) = \\frac{1}{2\\sqrt{x}}+ \\sin{x}$$"
      ]
    },
    {
      "cell_type": "markdown",
      "metadata": {
        "id": "-3vhEuxWHhod"
      },
      "source": [
        "The fucntion $\\phi(x)$ has a fixed poith where f(x) has a 0\n",
        "\n",
        "$$x=\\phi(x)=x−\\alpha f(x)$$"
      ]
    },
    {
      "cell_type": "code",
      "metadata": {
        "id": "gtK_qcb7Gxvn"
      },
      "source": [
        "def fixed_point_iteration(f,  x0, alpha =1, eps=1e-5, maxiter=1000):\n",
        "  \n",
        "    iter = 1\n",
        "  \n",
        "    phi = lambda x: x - alpha*f(x)\n",
        "    \n",
        "    x1 = phi(x0) \n",
        "\n",
        "    for _ in range(maxiter):\n",
        "        if( (abs(x1-x0)<=eps) or (abs(phi(x1)-x1) <= 2**(-52)) ):\n",
        "            break\n",
        "        x0 = x1\n",
        "        x1 = phi(x1)\n",
        "        iter +=1\n",
        "        \n",
        "    return x1,iter"
      ],
      "execution_count": 30,
      "outputs": []
    },
    {
      "cell_type": "code",
      "metadata": {
        "colab": {
          "base_uri": "https://localhost:8080/"
        },
        "id": "G0buZ-CKIKia",
        "outputId": "2e4dfa60-2fe9-4f94-9a97-ea5501181b20"
      },
      "source": [
        "import numpy as np\n",
        "\n",
        "f = lambda x: np.sqrt(x) - np.cos(x)\n",
        "fder = lambda x: 1/(2 * np.sqrt(x) ) + np.sin(x)\n",
        "\n",
        "x0 = 0.7\n",
        "\n",
        "newton_iteration(f, fder, x0)\n"
      ],
      "execution_count": 35,
      "outputs": [
        {
          "output_type": "execute_result",
          "data": {
            "text/plain": [
              "(0.6417143708728827, 1)"
            ]
          },
          "metadata": {
            "tags": []
          },
          "execution_count": 35
        }
      ]
    },
    {
      "cell_type": "code",
      "metadata": {
        "colab": {
          "base_uri": "https://localhost:8080/"
        },
        "id": "EzlIO42LIMpC",
        "outputId": "e6ca5d0f-e252-4196-e07b-d938b18ff01d"
      },
      "source": [
        "import numpy as np\n",
        "\n",
        "f = lambda x: np.sqrt(x) - np.cos(x)\n",
        "\n",
        "x0 = 0.7\n",
        "\n",
        "fixed_point_iteration(f,  x0, alpha =1, eps=1e-5, maxiter=1000)"
      ],
      "execution_count": 37,
      "outputs": [
        {
          "output_type": "execute_result",
          "data": {
            "text/plain": [
              "(0.6417127314101916, 7)"
            ]
          },
          "metadata": {
            "tags": []
          },
          "execution_count": 37
        }
      ]
    },
    {
      "cell_type": "code",
      "metadata": {
        "colab": {
          "base_uri": "https://localhost:8080/",
          "height": 296
        },
        "id": "_UemKIZ4Iw7q",
        "outputId": "f2904d5a-64f3-4cf9-85e9-b53e68efb12c"
      },
      "source": [
        "import numpy as np\n",
        "import matplotlib.pyplot as plt\n",
        "\n",
        "f = lambda x: np.sqrt(x) - np.cos(x)\n",
        "\n",
        "x0 = 0.7\n",
        "\n",
        "alphas=np.linspace(0.1, 1.5, 1000)\n",
        "\n",
        "steps = []\n",
        "for a in alphas:\n",
        "    _,s =  fixed_point_iteration(f,  x0, alpha =a)\n",
        "    steps.append(s)\n",
        "\n",
        "import matplotlib.pyplot as plt\n",
        "\n",
        "plt.plot(alphas,steps)\n",
        "plt.xlabel(\"Alpha\")\n",
        "plt.ylabel(\"Steps\")\n",
        "plt.show()\n",
        "print(\"Min = \" , np.array(steps).min())"
      ],
      "execution_count": 39,
      "outputs": [
        {
          "output_type": "display_data",
          "data": {
            "image/png": "[encoded data removed]",
            "text/plain": [
              "<Figure size 432x288 with 1 Axes>"
            ]
          },
          "metadata": {
            "tags": [],
            "needs_background": "light"
          }
        },
        {
          "output_type": "stream",
          "text": [
            "Min =  3\n"
          ],
          "name": "stdout"
        }
      ]
    },
    {
      "cell_type": "markdown",
      "metadata": {
        "id": "w3cB4IJEJK23"
      },
      "source": [
        "The optimal value of  $\\alpha$  is given by\n",
        "\n",
        "$$\\alpha = \\frac {2}{m + M}$$\n",
        "\n",
        "where $0 < m < |f' (x)| < M$ over the localization interval"
      ]
    },
    {
      "cell_type": "code",
      "metadata": {
        "colab": {
          "base_uri": "https://localhost:8080/",
          "height": 353
        },
        "id": "hAKEitcjKMx7",
        "outputId": "70d614b0-8172-4942-8430-0c85b990d4f5"
      },
      "source": [
        "import numpy as np\n",
        "import matplotlib.pyplot as plt\n",
        "\n",
        "f = lambda x: np.sqrt(x) - np.cos(x)\n",
        "fd = lambda x: 1/(2* np.sqrt(x) ) + np.sin(x)\n",
        "\n",
        "x = np.linspace(0.1,1.5, 500)\n",
        "\n",
        "plt.plot(x, f(x))\n",
        "plt.plot(x, fd(x))\n",
        "plt.legend([1, 2], labels=[\"f(x)\", \"f'(x)\"])\n",
        "plt.show()\n",
        "\n",
        "M = np.abs(fd(x)).max()\n",
        "m = np.abs(fd(x)).min()\n",
        "\n",
        "opt_alpha = 2/(m+M)\n",
        "\n",
        "x0 = 0.7\n",
        "\n",
        "_,s = fixed_point_iteration(f,  x0, opt_alpha)\n",
        "print(\"\")\n",
        "print(\"Number of steps for opt_alpha\", s)"
      ],
      "execution_count": 41,
      "outputs": [
        {
          "output_type": "stream",
          "text": [
            "/usr/local/lib/python3.7/dist-packages/ipykernel_launcher.py:11: UserWarning: You have mixed positional and keyword arguments, some input may be discarded.\n",
            "  # This is added back by InteractiveShellApp.init_path()\n"
          ],
          "name": "stderr"
        },
        {
          "output_type": "display_data",
          "data": {
            "image/png": "[encoded data removed]",
            "text/plain": [
              "<Figure size 432x288 with 1 Axes>"
            ]
          },
          "metadata": {
            "tags": [],
            "needs_background": "light"
          }
        },
        {
          "output_type": "stream",
          "text": [
            "\n",
            "Number of steps for opt_alpha 6\n"
          ],
          "name": "stdout"
        }
      ]
    },
    {
      "cell_type": "markdown",
      "metadata": {
        "id": "Uoka7S9ed5Ug"
      },
      "source": [
        "# Part III. Newton's fractal.\n",
        "\n",
        "(Not graded). \n",
        "\n",
        "Consider the equation\n",
        "\n",
        "$$\n",
        "x^3 = 1\n",
        "$$\n",
        "\n",
        "It has three solutions in the complex plane, $x_k = \\exp(i\\, 2\\pi k/ 3)$, $k = 0, 1, 2$.\n",
        "\n",
        "The Newton's iterations converge to one of these solutions, depending on the starting point in the complex plane (to converge to a complex-valued solution, the iteration needs a complex-valued starting point).\n",
        "\n",
        "Plot the \\emph{basins of attraction} of these roots on the complex plane of $x$ (i.e., on the plane $\\mathrm{Re}x$ -- $\\mathrm{Im}x$). To this end, make a series of calculations, varying the initial conditions on a grid of points. \n",
        "Color the grid in three colors, according to the root, to which iterations converged."
      ]
    },
    {
      "cell_type": "code",
      "metadata": {
        "collapsed": true,
        "id": "gowJ14zkd5Ug",
        "colab": {
          "base_uri": "https://localhost:8080/"
        },
        "outputId": "1e86126a-e969-4ebe-fc39-980d93ae0337"
      },
      "source": [
        "#Tomado de German_Hernandez\n",
        "import math\n",
        "\n",
        "x = complex(math.cos(2*math.pi/3), 5)\n",
        "x"
      ],
      "execution_count": 42,
      "outputs": [
        {
          "output_type": "execute_result",
          "data": {
            "text/plain": [
              "(-0.4999999999999998+5j)"
            ]
          },
          "metadata": {
            "tags": []
          },
          "execution_count": 42
        }
      ]
    },
    {
      "cell_type": "code",
      "metadata": {
        "colab": {
          "base_uri": "https://localhost:8080/"
        },
        "id": "T0R0qR2mLVPk",
        "outputId": "0fd2115d-52b1-4a74-b85d-7932eb02bb53"
      },
      "source": [
        "#Tomado de German_Hernandez\n",
        "import math\n",
        "\n",
        "r1 = complex(math.cos(2*math.pi/3) ,  math.sin(2*math.pi/3))\n",
        "r2 = complex(math.cos(2*2*math.pi/3), math.sin(2*2*math.pi/3))\n",
        "r3 = complex(math.cos(2*3*math.pi/3), math.sin(2*3*math.pi/3))\n",
        "r1"
      ],
      "execution_count": 46,
      "outputs": [
        {
          "output_type": "execute_result",
          "data": {
            "text/plain": [
              "(-0.4999999999999998+0.8660254037844387j)"
            ]
          },
          "metadata": {
            "tags": []
          },
          "execution_count": 46
        }
      ]
    },
    {
      "cell_type": "code",
      "metadata": {
        "id": "cYNpef-JLb2I"
      },
      "source": [
        "#Tomado de German_Hernandez\n",
        "import math\n",
        "import matplotlib.pyplot as plt\n",
        "import numpy as np\n",
        "\n",
        "def f(z):\n",
        "    return z ** 3 - 1\n",
        "\n",
        "def df(z):\n",
        "    return 3 * z**2\n",
        "\n",
        "def newton_set1(z_c_r=0, z_c_i=0, zh = 5, zw=5, width=500, height=500, zoom=1,  niter=256):\n",
        "    \"\"\" Fractals using newton-raphson \"\"\"\n",
        "\n",
        "    # Pixels array\n",
        "    pixels = np.arange(width*height*3, dtype=np.uint32).reshape(height, width, 3)\n",
        "\n",
        "    h = 1e-7 # step size for numerical derivative\n",
        "    eps = 1e-3 # max error allowed\n",
        "\n",
        "    # Bounding roots\n",
        "    r1 = 1\n",
        "    r2 = complex(-0.5, math.sin(2*math.pi/3))\n",
        "    r3 = complex(-0.5, -1*math.sin(2*math.pi/3))\n",
        "\n",
        "    # Color multiplication factor\n",
        "    # NOTE: Increasing this darkens the image and lightens it otherwise\n",
        "    multcol = 5\n",
        "    m = 1 # Newton's method for roots of multiplicity >1 https://math.stackexchange.com/questions/93156/newtons-method-for-roots-of-multiplicity-1/93158\n",
        "\n",
        "    for y in range(height):\n",
        "            zy =   z_c_i+(((y-(height/2))/height)*zh*zoom)\n",
        "\n",
        "            for x in range(width):\n",
        "                zx = z_c_r+ (((x-(width/2))/width)*zw*zoom)\n",
        "\n",
        "                # Mapping real -> complex plane\n",
        "                z = complex(zx, zy)\n",
        "                \n",
        "                count = 0\n",
        "                \n",
        "                for i in range(niter):\n",
        "                    # complex numerical derivative\n",
        "                    dz = df(z)\n",
        "                    if dz == 0:\n",
        "                        break\n",
        "\n",
        "                    count += 1\n",
        "                    if count > 255:\n",
        "                        break\n",
        "                   \n",
        "                    znext = z - m * f(z) / dz # Newton iteration\n",
        "\n",
        "                    if abs(znext - z) < eps: # stop when close enough to any root\n",
        "                        break\n",
        "                    \n",
        "                    z = znext\n",
        "\n",
        "                # Pixels colored using the roots\n",
        "                if abs(z-r1)<eps:\n",
        "                    # color red\n",
        "                    pixels[height-y-1,x] = (255 - count*multcol, 0, 0)\n",
        "                elif abs(z-r2)<=eps:\n",
        "                    # color green\n",
        "                    pixels[height-y-1,x] = (0, 255 - count*multcol, 0)\n",
        "                elif abs(z-r3)<=eps:\n",
        "                    # color blue\n",
        "                    pixels[height-y-1,x] = (0, 0, 255 - count*multcol)\n",
        "                else:   \n",
        "                    pixels[height-y-1,x] = (0, 0, 0)\n",
        " \n",
        "    return pixels\n",
        "\n",
        "def display1(z_c_r=0, z_c_i=0, zh = 1, zw=1, width=500, height=500, zoom=1,  niter=256):\n",
        "    \"\"\" Display a newton-raphson fractal \"\"\"\n",
        "    print(\"Z region from (\",z_c_r+ (((0-(width/2))/width)*zw*zoom),\",\",z_c_i+(((0-(height/2))/height)*zh*zoom) ,\") to (\",z_c_r+ (((width-(width/2))/width)*zw*zoom),\",\",z_c_i+(((height-(height/2))/height)*zh*zoom),\")\")\n",
        "    pimg = newton_set1(z_c_r=z_c_r, z_c_i=z_c_i, zh = zh, zw=zw, width=width, height=width, zoom=zoom,  niter=niter)\n",
        "    plt.title('Newton Fractal f(z)=z**3-1')\n",
        "    plt.xlabel(\"real\"+\"(\"+ str(z_c_r+ (((0-(width/2))/width)*zw*zoom))+\",\"+str(z_c_r+ (((width-(width/2))/width)*zw*zoom))+\")\")\n",
        "    plt.ylabel(\"imaginary\"+\"(\"+str(z_c_i+(((0-(height/2))/height)*zh*zoom))+\",\"+str(z_c_i+(((height-(height/2))/height)*zh*zoom)) +\")\")\n",
        "    plt.imshow(pimg)\n",
        "    plt.show()              \n"
      ],
      "execution_count": 44,
      "outputs": []
    },
    {
      "cell_type": "code",
      "metadata": {
        "colab": {
          "base_uri": "https://localhost:8080/",
          "height": 312
        },
        "id": "jhZYO9gaLfYk",
        "outputId": "6b454a40-009a-4fcb-f349-f97ddb5212fd"
      },
      "source": [
        "display1(zoom=1)"
      ],
      "execution_count": 45,
      "outputs": [
        {
          "output_type": "stream",
          "text": [
            "Z region from ( -0.5 , -0.5 ) to ( 0.5 , 0.5 )\n"
          ],
          "name": "stdout"
        },
        {
          "output_type": "display_data",
          "data": {
            "image/png": "[encoded data removed]",
            "text/plain": [
              "<Figure size 432x288 with 1 Axes>"
            ]
          },
          "metadata": {
            "tags": [],
            "needs_background": "light"
          }
        }
      ]
    }
  ]
}