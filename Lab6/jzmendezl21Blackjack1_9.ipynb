{
  "nbformat": 4,
  "nbformat_minor": 0,
  "metadata": {
    "colab": {
      "name": "jzmendezl21Blackjack1_9.ipynb",
      "provenance": [],
      "collapsed_sections": [
        "SqdFLEaVO_xf",
        "Pq1wBMlxPFIw",
        "P6NuqvBvR_YT",
        "iAdOE44eovVt",
        "i64E24H0tid6",
        "AlsS8LbSvdgO",
        "-6LaLNAowM-q",
        "tMOOH4BVyHE8"
      ]
    },
    "kernelspec": {
      "name": "python3",
      "display_name": "Python 3"
    }
  },
  "cells": [
    {
      "cell_type": "code",
      "metadata": {
        "id": "qtauICRGiD_U"
      },
      "source": [
        "import random as rnd\n",
        "import matplotlib.pyplot as plt\n",
        "import numpy \n",
        "import math\n",
        "import pandas as pd\n",
        "import seaborn as sb"
      ],
      "execution_count": null,
      "outputs": []
    },
    {
      "cell_type": "markdown",
      "metadata": {
        "id": "SqdFLEaVO_xf"
      },
      "source": [
        "# Baraja Española Punto 1"
      ]
    },
    {
      "cell_type": "markdown",
      "metadata": {
        "id": "AMxfiUvgQGW3"
      },
      "source": [
        "Estimate the probability of getting a 21, the average number of cards required to complete 21 and plot the experimental distribution of the number of card required to complete 21 drawing cards sequentially from a shuffled Spanish 48-card deck with card values [1,2,3,4,5,6,7,10,11,12,1,2,3,4,5,6,7,8,9,10,11,12,1,2,3,4,5,6,7,8,9,10,11,12,1,2,3,4,5,6,7,8,9,10,11,12] using Montecarlo with 10 millions simulations."
      ]
    },
    {
      "cell_type": "code",
      "metadata": {
        "id": "Qt2bSDuY7Y0V"
      },
      "source": [
        "#n ---> Veces que se ralizo el juego\n",
        "n = 10000000\n",
        "\n",
        "#win_cont ---> Veces que se obtuvo 21\n",
        "win_cont = 0\n",
        "av_cards = 0\n",
        "dicc_21 = {2:0, 3:0, 4:0, 5:0, 6:0, 7:0, 8:0, 9:0, 10:0, 11:0}\n",
        "\n",
        "for i in range(n):\n",
        "  dk_esp = [1, 2, 3, 4, 5, 6, 7, 8, 9, 10, 11, 12,\n",
        "            1, 2, 3, 4, 5, 6, 7, 8, 9, 10, 11, 12,\n",
        "            1, 2, 3, 4, 5, 6, 7, 8, 9, 10, 11, 12,\n",
        "            1, 2, 3, 4, 5, 6, 7, 8, 9, 10, 11, 12]\n",
        "  rnd.shuffle(dk_esp)\n",
        "  hand = []\n",
        "  cards_in_hand = 0\n",
        "  while (sum(hand) < 21):\n",
        "    take = rnd.choice(dk_esp)\n",
        "    hand.append(take)\n",
        "    dk_esp.remove(take)\n",
        "    cards_in_hand += 1\n",
        "  \n",
        "  if (sum(hand) == 21):\n",
        "    win_cont += 1\n",
        "    av_cards += cards_in_hand\n",
        "    dicc_21[cards_in_hand] += 1 \n",
        "    "
      ],
      "execution_count": null,
      "outputs": []
    },
    {
      "cell_type": "code",
      "metadata": {
        "colab": {
          "base_uri": "https://localhost:8080/",
          "height": 346
        },
        "id": "5EDKkKJeC7fp",
        "outputId": "a07a11c2-0771-4106-8b56-106cb8708f40"
      },
      "source": [
        "print('La probabilidad de obtener 21 es: ', (win_cont/n))\n",
        "print(\"El número promedio de cartas necesarias para completar 21 es:\", av_cards/win_cont,\"\\n\")\n",
        "\n",
        "plt.bar(dicc_21.keys(), dicc_21.values(), 1, edgecolor = 'black')\n",
        "plt.xlabel('Numero de cartas')\n",
        "plt.ylabel('Numero de Juegos')\n",
        "plt.title('21_GAME')\n",
        "plt.grid(True)\n"
      ],
      "execution_count": null,
      "outputs": [
        {
          "output_type": "stream",
          "text": [
            "La probabilidad de obtener 21 es:  0.1576019\n",
            "El número promedio de cartas necesarias para completar 21 es: 3.41558889835719 \n",
            "\n"
          ],
          "name": "stdout"
        },
        {
          "output_type": "display_data",
          "data": {
            "image/png": "[encoded data removed]",
            "text/plain": [
              "<Figure size 432x288 with 1 Axes>"
            ]
          },
          "metadata": {
            "tags": [],
            "needs_background": "light"
          }
        }
      ]
    },
    {
      "cell_type": "markdown",
      "metadata": {
        "id": "Pq1wBMlxPFIw"
      },
      "source": [
        "# Baraja Poker Punto 1"
      ]
    },
    {
      "cell_type": "markdown",
      "metadata": {
        "id": "kGuTRQ9kQrTc"
      },
      "source": [
        "Estimate the probability of getting a 21, the average number of cards required to complete 21 and plot the experimental distribution of the number of card required to complete 21 drawing cards sequentially from a shuffled Poker 52-card with card values [1,2,3,4,5,6,7,8,9,10,11,12,13,1,2,3,4,5,6,7,8,9,10,11,12,13,1,2,3,4,5,6,7,8,9,10,11,12,13,1,2,3,4,5,6,7,8,9,10,11,12,13] using Montecarlo with 10 millions simulations."
      ]
    },
    {
      "cell_type": "code",
      "metadata": {
        "id": "mH2GbPtFIWTr"
      },
      "source": [
        "#n ---> Veces que se ralizo el juego\n",
        "n = 10000000\n",
        "\n",
        "#win_cont ---> Veces que se obtuvo 21\n",
        "win_cont = 0\n",
        "av_cards = 0\n",
        "dicc_21 = {2:0, 3:0, 4:0, 5:0, 6:0, 7:0, 8:0, 9:0, 10:0, 11:0}\n",
        "\n",
        "for i in range(n):\n",
        "  dk_poker = [1, 2, 3, 4, 5, 6, 7, 8, 9, 10, 11, 12, 13,\n",
        "              1, 2, 3, 4, 5, 6, 7, 8, 9, 10, 11, 12, 13,\n",
        "              1, 2, 3, 4, 5, 6, 7, 8, 9, 10, 11, 12, 13,\n",
        "              1, 2, 3, 4, 5, 6, 7, 8, 9, 10, 11, 12, 13]\n",
        "  rnd.shuffle(dk_poker)\n",
        "  hand = []\n",
        "  cards_in_hand = 0\n",
        "  while (sum(hand) < 21):\n",
        "    take = rnd.choice(dk_poker)\n",
        "    hand.append(take)\n",
        "    dk_poker.remove(take)\n",
        "    cards_in_hand += 1\n",
        "  \n",
        "  if (sum(hand) == 21):\n",
        "    win_cont += 1\n",
        "    av_cards += cards_in_hand\n",
        "    dicc_21[cards_in_hand] += 1 "
      ],
      "execution_count": null,
      "outputs": []
    },
    {
      "cell_type": "code",
      "metadata": {
        "colab": {
          "base_uri": "https://localhost:8080/",
          "height": 346
        },
        "id": "59WGumDYPQRc",
        "outputId": "deb43972-dc34-424f-f184-fc8f84fc7e6b"
      },
      "source": [
        "print('La probabilidad de obtener 21 es: ', (win_cont/n))\n",
        "print(\"El número promedio de cartas necesarias para completar 21 es:\", av_cards/win_cont,\"\\n\")\n",
        "\n",
        "plt.bar(dicc_21.keys(), dicc_21.values(), 1, edgecolor = 'black')\n",
        "plt.xlabel('Numero de cartas')\n",
        "plt.ylabel('Numero de Juegos')\n",
        "plt.title('21_GAME')\n",
        "plt.grid(True)"
      ],
      "execution_count": null,
      "outputs": [
        {
          "output_type": "stream",
          "text": [
            "La probabilidad de obtener 21 es:  0.1448154\n",
            "El número promedio de cartas necesarias para completar 21 es: 3.2161227328032793 \n",
            "\n"
          ],
          "name": "stdout"
        },
        {
          "output_type": "display_data",
          "data": {
            "image/png": "[encoded data removed]",
            "text/plain": [
              "<Figure size 432x288 with 1 Axes>"
            ]
          },
          "metadata": {
            "tags": [],
            "needs_background": "light"
          }
        }
      ]
    },
    {
      "cell_type": "markdown",
      "metadata": {
        "id": "P6NuqvBvR_YT"
      },
      "source": [
        "# Baraja Española Punto 2"
      ]
    },
    {
      "cell_type": "markdown",
      "metadata": {
        "id": "ZgmsD2fHfddj"
      },
      "source": [
        "Estimate the probability of getting a 21, the average number of cards required to complete 21 and plot the experimental distribution of the number of card required to complete 21 drawing cards sequentially from a shuffled Spanish 48-card deck with card values [1,2,3,4,5,6,7,10,10,10,1,2,3,4,5,6,7,8,9,10,10,10,1,2,3,4,5,6,7,8,9,10,10,10,1,2,3,4,5,6,7,8,9,10,10,10] using Montecarlo with 10 millions simulations."
      ]
    },
    {
      "cell_type": "code",
      "metadata": {
        "id": "7p8s9LNFRyiO"
      },
      "source": [
        "#n ---> Veces que se ralizo el juego\n",
        "n = 10000000\n",
        "\n",
        "#win_cont ---> Veces que se obtuvo 21\n",
        "win_cont = 0\n",
        "av_cards = 0\n",
        "dicc_21 = {2:0, 3:0, 4:0, 5:0, 6:0, 7:0, 8:0, 9:0, 10:0, 11:0}\n",
        "\n",
        "for i in range(n):\n",
        "  dk_esp = [1, 2, 3, 4, 5, 6, 7, 8, 9, 10, 10, 10,\n",
        "            1, 2, 3, 4, 5, 6, 7, 8, 9, 10, 10, 10,\n",
        "            1, 2, 3, 4, 5, 6, 7, 8, 9, 10, 10, 10,\n",
        "            1, 2, 3, 4, 5, 6, 7, 8, 9, 10, 10, 10]\n",
        "  rnd.shuffle(dk_esp)\n",
        "  hand = []\n",
        "  cards_in_hand = 0\n",
        "  while (sum(hand) < 21):\n",
        "    take = rnd.choice(dk_esp)\n",
        "    hand.append(take)\n",
        "    dk_esp.remove(take)\n",
        "    cards_in_hand += 1\n",
        "  \n",
        "  if (sum(hand) == 21):\n",
        "    win_cont += 1\n",
        "    av_cards += cards_in_hand\n",
        "    dicc_21[cards_in_hand] += 1 "
      ],
      "execution_count": 46,
      "outputs": []
    },
    {
      "cell_type": "code",
      "metadata": {
        "colab": {
          "base_uri": "https://localhost:8080/",
          "height": 346
        },
        "id": "X48lRLo0g91Y",
        "outputId": "09c31c89-57b6-42b5-813d-90023a2e25c1"
      },
      "source": [
        "print('La probabilidad de obtener 21 es: ', (win_cont/n))\n",
        "print(\"El número promedio de cartas necesarias para completar 21 es:\", av_cards/win_cont,\"\\n\")\n",
        "\n",
        "plt.bar(dicc_21.keys(), dicc_21.values(), 1, edgecolor = 'black')\n",
        "plt.xlabel('Numero de cartas')\n",
        "plt.ylabel('Numero de Juegos')\n",
        "plt.title('21_GAME')\n",
        "plt.grid(True)\n"
      ],
      "execution_count": 47,
      "outputs": [
        {
          "output_type": "stream",
          "text": [
            "La probabilidad de obtener 21 es:  0.14958\n",
            "El número promedio de cartas necesarias para completar 21 es: 3.6979308731113787 \n",
            "\n"
          ],
          "name": "stdout"
        },
        {
          "output_type": "display_data",
          "data": {
            "image/png": "[encoded data removed]",
            "text/plain": [
              "<Figure size 432x288 with 1 Axes>"
            ]
          },
          "metadata": {
            "tags": [],
            "needs_background": "light"
          }
        }
      ]
    },
    {
      "cell_type": "markdown",
      "metadata": {
        "id": "iAdOE44eovVt"
      },
      "source": [
        "# Baraja Poker Punto 2"
      ]
    },
    {
      "cell_type": "markdown",
      "metadata": {
        "id": "-frZRYyjoyz_"
      },
      "source": [
        "Estimate the probability of getting a 21, the average number of cards required to complete 21 and plot the experimental distribution of the number of card required to complete 21 drawing cards sequentially from a shuffled Poker 52-card deck with card values [1,2,3,4,5,6,7,8,9,10,11,12,13,1,2,3,4,5,6,7,8,9,10,10,10,10,1,2,3,4,5,6,7,8,9,10,10,10,10,1,2,3,4,5,6,7,8,9,10,10,10,10] using Montecarlo with 10 millions simulations."
      ]
    },
    {
      "cell_type": "code",
      "metadata": {
        "id": "-dXV0yL3oSaj"
      },
      "source": [
        "#n ---> Veces que se ralizo el juego\n",
        "n = 10000000\n",
        "\n",
        "#win_cont ---> Veces que se obtuvo 21\n",
        "win_cont = 0\n",
        "av_cards = 0\n",
        "dicc_21 = {2:0, 3:0, 4:0, 5:0, 6:0, 7:0, 8:0, 9:0, 10:0, 11:0}\n",
        "\n",
        "for i in range(n):\n",
        "  dk_poker = [1, 2, 3, 4, 5, 6, 7, 8, 9, 10, 10, 10, 10,\n",
        "              1, 2, 3, 4, 5, 6, 7, 8, 9, 10, 10, 10, 10,\n",
        "              1, 2, 3, 4, 5, 6, 7, 8, 9, 10, 10, 10, 10,\n",
        "              1, 2, 3, 4, 5, 6, 7, 8, 9, 10, 10, 10, 10]\n",
        "  rnd.shuffle(dk_poker)\n",
        "  hand = []\n",
        "  cards_in_hand = 0\n",
        "  while (sum(hand) < 21):\n",
        "    take = rnd.choice(dk_poker)\n",
        "    hand.append(take)\n",
        "    dk_poker.remove(take)\n",
        "    cards_in_hand += 1\n",
        "  \n",
        "  if (sum(hand) == 21):\n",
        "    win_cont += 1\n",
        "    av_cards += cards_in_hand\n",
        "    dicc_21[cards_in_hand] += 1 "
      ],
      "execution_count": 49,
      "outputs": []
    },
    {
      "cell_type": "code",
      "metadata": {
        "colab": {
          "base_uri": "https://localhost:8080/",
          "height": 346
        },
        "id": "IZncYt4_pS85",
        "outputId": "1acbcc5c-ab2c-4443-a5c3-2cdaf65a4ed2"
      },
      "source": [
        "print('La probabilidad de obtener 21 es: ', (win_cont/n))\n",
        "print(\"El número promedio de cartas necesarias para completar 21 es:\", av_cards/win_cont,\"\\n\")\n",
        "\n",
        "plt.bar(dicc_21.keys(), dicc_21.values(), 1, edgecolor = 'black')\n",
        "plt.xlabel('Numero de cartas')\n",
        "plt.ylabel('Numero de Juegos')\n",
        "plt.title('21_GAME')\n",
        "plt.grid(True)"
      ],
      "execution_count": 51,
      "outputs": [
        {
          "output_type": "stream",
          "text": [
            "La probabilidad de obtener 21 es:  0.1402348\n",
            "El número promedio de cartas necesarias para completar 21 es: 3.57831793534843 \n",
            "\n"
          ],
          "name": "stdout"
        },
        {
          "output_type": "display_data",
          "data": {
            "image/png": "[encoded data removed]",
            "text/plain": [
              "<Figure size 432x288 with 1 Axes>"
            ]
          },
          "metadata": {
            "tags": [],
            "needs_background": "light"
          }
        }
      ]
    },
    {
      "cell_type": "code",
      "metadata": {
        "id": "ULdeHAnZpXWC"
      },
      "source": [
        ""
      ],
      "execution_count": null,
      "outputs": []
    },
    {
      "cell_type": "markdown",
      "metadata": {
        "id": "i64E24H0tid6"
      },
      "source": [
        "# Baraja Española Punto 3"
      ]
    },
    {
      "cell_type": "markdown",
      "metadata": {
        "id": "Z5tpEWlYtneA"
      },
      "source": [
        "Estimate the probability of getting a 21, the average total number of cards required to complete 21 and lot the experimental distribution of the number of card required to complete 21; assuming that you have in your hand the cards [7,7,5] and the remaining deck has n/2 cards for the regular Spanish 48-card deck. You can pick the n/2 cards in the remaining deck in whatever way you choose but with restriction that this has maximum two 7s and three 5, you have to keep the remaining deck fixed through the Montecarlo simulations, use 10 million simulations."
      ]
    },
    {
      "cell_type": "code",
      "metadata": {
        "id": "iZ7CoTPrushN"
      },
      "source": [
        "#n ---> Veces que se ralizo el juego\n",
        "n = 10000000\n",
        "\n",
        "#win_cont ---> Veces que se obtuvo 21\n",
        "win_cont = 0\n",
        "av_cards = 0\n",
        "dicc_21 = {2:0, 3:0, 4:0, 5:0, 6:0, 7:0, 8:0, 9:0, 10:0, 11:0}\n",
        "\n",
        "for i in range(n):\n",
        "  dk_esp = [1, 2, 3, 4, 5, 6, 7, 8, 9, 10, 10, 10,\n",
        "            1, 2, 3, 4, 5, 6, 7, 8, 9, 10, 10, 5]\n",
        "  rnd.shuffle(dk_esp)\n",
        "  hand = [7, 7, 5]\n",
        "  cards_in_hand = 3\n",
        "  while (sum(hand) < 21):\n",
        "    take = rnd.choice(dk_esp)\n",
        "    hand.append(take)\n",
        "    dk_esp.remove(take)\n",
        "    cards_in_hand += 1\n",
        "  \n",
        "  if (sum(hand) == 21):\n",
        "    win_cont += 1\n",
        "    av_cards += cards_in_hand\n",
        "    dicc_21[cards_in_hand] += 1 "
      ],
      "execution_count": 53,
      "outputs": []
    },
    {
      "cell_type": "code",
      "metadata": {
        "colab": {
          "base_uri": "https://localhost:8080/",
          "height": 346
        },
        "id": "t61LfpVCuxUP",
        "outputId": "d5fd2123-c3ed-428a-9a3f-120565f6a6b9"
      },
      "source": [
        "print('La probabilidad de obtener 21 es: ', (win_cont/n))\n",
        "print(\"El número promedio de cartas necesarias para completar 21 es:\", av_cards/win_cont,\"\\n\")\n",
        "\n",
        "plt.bar(dicc_21.keys(), dicc_21.values(), 1, edgecolor = 'black')\n",
        "plt.xlabel('Numero de cartas')\n",
        "plt.ylabel('Numero de Juegos')\n",
        "plt.title('21_GAME')\n",
        "plt.grid(True)"
      ],
      "execution_count": 54,
      "outputs": [
        {
          "output_type": "stream",
          "text": [
            "La probabilidad de obtener 21 es:  0.086804\n",
            "El número promedio de cartas necesarias para completar 21 es: 4.041893230726695 \n",
            "\n"
          ],
          "name": "stdout"
        },
        {
          "output_type": "display_data",
          "data": {
            "image/png": "[encoded data removed]",
            "text/plain": [
              "<Figure size 432x288 with 1 Axes>"
            ]
          },
          "metadata": {
            "tags": [],
            "needs_background": "light"
          }
        }
      ]
    },
    {
      "cell_type": "markdown",
      "metadata": {
        "id": "AlsS8LbSvdgO"
      },
      "source": [
        "# Baraja Poker Punto 3"
      ]
    },
    {
      "cell_type": "markdown",
      "metadata": {
        "id": "XYdi2v-Bvj6x"
      },
      "source": [
        "Estimate the probability of getting a 21, the average total number of cards required to complete 21 and lot the experimental distribution of the number of card required to complete 21; assuming that you have in your hand the cards [7,7,5] and the remaining deck has n/2 cards for the regular de póquer de 52 cartas. You can pick the n/2 cards in the remaining deck in whatever way you choose but with restriction that this has maximum two 7s and three 5, you have to keep the remaining deck fixed through the Montecarlo simulations, use 10 million simulations."
      ]
    },
    {
      "cell_type": "code",
      "metadata": {
        "id": "-wB6MhgFvv3w"
      },
      "source": [
        "#n ---> Veces que se ralizo el juego\n",
        "n = 10000000\n",
        "\n",
        "#win_cont ---> Veces que se obtuvo 21\n",
        "win_cont = 0\n",
        "av_cards = 0\n",
        "dicc_21 = {2:0, 3:0, 4:0, 5:0, 6:0, 7:0, 8:0, 9:0, 10:0, 11:0}\n",
        "\n",
        "for i in range(n):\n",
        "  dk_poker = [1, 2, 3, 4, 5, 6, 7, 8, 9, 10, 10, 10, 10,\n",
        "              1, 2, 3, 4, 5, 6, 7, 8, 9, 10, 10, 10, 5]\n",
        "  rnd.shuffle(dk_poker)\n",
        "  hand = [7, 7, 5]\n",
        "  cards_in_hand = 3\n",
        "  while (sum(hand) < 21):\n",
        "    take = rnd.choice(dk_poker)\n",
        "    hand.append(take)\n",
        "    dk_poker.remove(take)\n",
        "    cards_in_hand += 1\n",
        "  \n",
        "  if (sum(hand) == 21):\n",
        "    win_cont += 1\n",
        "    av_cards += cards_in_hand\n",
        "    dicc_21[cards_in_hand] += 1 "
      ],
      "execution_count": 55,
      "outputs": []
    },
    {
      "cell_type": "code",
      "metadata": {
        "colab": {
          "base_uri": "https://localhost:8080/",
          "height": 346
        },
        "id": "keDrl34lvxjt",
        "outputId": "44d5ae69-e996-4801-c383-63401973be08"
      },
      "source": [
        "print('La probabilidad de obtener 21 es: ', (win_cont/n))\n",
        "print(\"El número promedio de cartas necesarias para completar 21 es:\", av_cards/win_cont,\"\\n\")\n",
        "\n",
        "plt.bar(dicc_21.keys(), dicc_21.values(), 1, edgecolor = 'black')\n",
        "plt.xlabel('Numero de cartas')\n",
        "plt.ylabel('Numero de Juegos')\n",
        "plt.title('21_GAME')\n",
        "plt.grid(True)"
      ],
      "execution_count": 56,
      "outputs": [
        {
          "output_type": "stream",
          "text": [
            "La probabilidad de obtener 21 es:  0.0800281\n",
            "El número promedio de cartas necesarias para completar 21 es: 4.038653922809613 \n",
            "\n"
          ],
          "name": "stdout"
        },
        {
          "output_type": "display_data",
          "data": {
            "image/png": "[encoded data removed]",
            "text/plain": [
              "<Figure size 432x288 with 1 Axes>"
            ]
          },
          "metadata": {
            "tags": [],
            "needs_background": "light"
          }
        }
      ]
    },
    {
      "cell_type": "markdown",
      "metadata": {
        "id": "-6LaLNAowM-q"
      },
      "source": [
        "# Baraja Española Punto 4"
      ]
    },
    {
      "cell_type": "markdown",
      "metadata": {
        "id": "Kx1xD1VywRb7"
      },
      "source": [
        "Estimate and calculate analytically the probability of getting a 21, the average total number of cards required to complete 21 and the experimental distribution of the number of card required to complete 21; assuming that you have in your hand the cards [7,7,5] and the remaining deck has two possible sets of 8 cards for the regular Spanish 48-card deck. he two possible remaining decks are a (hot deck) that contains four 1 cards and four 2 cards a (cold deck) with not 1 or 2 cards, for the estimations use Montecarlo with 10 million simulations."
      ]
    },
    {
      "cell_type": "code",
      "metadata": {
        "id": "RMJFrtNYw9eR"
      },
      "source": [
        "#n ---> Veces que se ralizo el juego\n",
        "n = 10000000\n",
        "\n",
        "#win_cont ---> Veces que se obtuvo 21\n",
        "win_cont = 0\n",
        "av_cards = 0\n",
        "dicc_21 = {2:0, 3:0, 4:0, 5:0, 6:0, 7:0, 8:0, 9:0, 10:0, 11:0}\n",
        "\n",
        "for i in range(n):\n",
        "  dk_esp = [1, 1, 1, 1, 2, 2, 2, 2,       #Hot Deck\n",
        "            9, 10, 3, 4, 5, 6, 7, 8]      #Cold Deck\n",
        "  rnd.shuffle(dk_esp)\n",
        "  hand = [7, 7, 5]\n",
        "  cards_in_hand = 3\n",
        "  while (sum(hand) < 21):\n",
        "    take = rnd.choice(dk_esp)\n",
        "    hand.append(take)\n",
        "    dk_esp.remove(take)\n",
        "    cards_in_hand += 1\n",
        "  \n",
        "  if (sum(hand) == 21):\n",
        "    win_cont += 1\n",
        "    av_cards += cards_in_hand\n",
        "    dicc_21[cards_in_hand] += 1 "
      ],
      "execution_count": 57,
      "outputs": []
    },
    {
      "cell_type": "code",
      "metadata": {
        "colab": {
          "base_uri": "https://localhost:8080/",
          "height": 346
        },
        "id": "xbRQ1M4qxPj4",
        "outputId": "a6e2c1be-2751-4def-af13-b43e2332c796"
      },
      "source": [
        "print('La probabilidad de obtener 21 es: ', (win_cont/n))\n",
        "print(\"El número promedio de cartas necesarias para completar 21 es:\", av_cards/win_cont,\"\\n\")\n",
        "\n",
        "plt.bar(dicc_21.keys(), dicc_21.values(), 1, edgecolor = 'black')\n",
        "plt.xlabel('Numero de cartas')\n",
        "plt.ylabel('Numero de Juegos')\n",
        "plt.title('21_GAME')\n",
        "plt.grid(True)"
      ],
      "execution_count": 58,
      "outputs": [
        {
          "output_type": "stream",
          "text": [
            "La probabilidad de obtener 21 es:  0.2999428\n",
            "El número promedio de cartas necesarias para completar 21 es: 4.1665910967024375 \n",
            "\n"
          ],
          "name": "stdout"
        },
        {
          "output_type": "display_data",
          "data": {
            "image/png": "[encoded data removed]",
            "text/plain": [
              "<Figure size 432x288 with 1 Axes>"
            ]
          },
          "metadata": {
            "tags": [],
            "needs_background": "light"
          }
        }
      ]
    },
    {
      "cell_type": "markdown",
      "metadata": {
        "id": "tMOOH4BVyHE8"
      },
      "source": [
        "# Baraja Poker Punto 4"
      ]
    },
    {
      "cell_type": "markdown",
      "metadata": {
        "id": "7NdWR6cgyLvV"
      },
      "source": [
        "Estimate and calculate analytically the probability of getting a 21, the average total number of cards required to complete 21 and the experimental distribution of the number of card required to complete 21; assuming that you have in your hand the cards [7,7,5] and the remaining deck has two possible sets of 8 cards for the regular Poker 52-card deck. he two possible remaining decks are a (hot deck) that contains four 1 cards and four 2 cards a (cold deck) with not 1 or 2 cards, for the estimations use Montecarlo with 10 million simulations."
      ]
    },
    {
      "cell_type": "code",
      "metadata": {
        "id": "3M6CniCtyU7d"
      },
      "source": [
        "#n ---> Veces que se ralizo el juego\n",
        "n = 10000000\n",
        "\n",
        "#win_cont ---> Veces que se obtuvo 21\n",
        "win_cont = 0\n",
        "av_cards = 0\n",
        "dicc_21 = {2:0, 3:0, 4:0, 5:0, 6:0, 7:0, 8:0, 9:0, 10:0, 11:0}\n",
        "\n",
        "for i in range(n):\n",
        "  dk_poker = [1, 1, 1, 1, 2, 2, 2, 2,\n",
        "              3, 4, 5, 6, 7, 8, 9, 10]\n",
        "  rnd.shuffle(dk_poker)\n",
        "  hand = [7, 7, 5]\n",
        "  cards_in_hand = 3\n",
        "  while (sum(hand) < 21):\n",
        "    take = rnd.choice(dk_poker)\n",
        "    hand.append(take)\n",
        "    dk_poker.remove(take)\n",
        "    cards_in_hand += 1\n",
        "  \n",
        "  if (sum(hand) == 21):\n",
        "    win_cont += 1\n",
        "    av_cards += cards_in_hand\n",
        "    dicc_21[cards_in_hand] += 1 "
      ],
      "execution_count": 59,
      "outputs": []
    },
    {
      "cell_type": "code",
      "metadata": {
        "colab": {
          "base_uri": "https://localhost:8080/",
          "height": 346
        },
        "id": "p_6PV9rbyVh-",
        "outputId": "a207751d-588a-4f8e-e650-e3143e6260d5"
      },
      "source": [
        "print('La probabilidad de obtener 21 es: ', (win_cont/n))\n",
        "print(\"El número promedio de cartas necesarias para completar 21 es:\", av_cards/win_cont,\"\\n\")\n",
        "\n",
        "plt.bar(dicc_21.keys(), dicc_21.values(), 1, edgecolor = 'black')\n",
        "plt.xlabel('Numero de cartas')\n",
        "plt.ylabel('Numero de Juegos')\n",
        "plt.title('21_GAME')\n",
        "plt.grid(True)"
      ],
      "execution_count": 60,
      "outputs": [
        {
          "output_type": "stream",
          "text": [
            "La probabilidad de obtener 21 es:  0.3001399\n",
            "El número promedio de cartas necesarias para completar 21 es: 4.166937151641617 \n",
            "\n"
          ],
          "name": "stdout"
        },
        {
          "output_type": "display_data",
          "data": {
            "image/png": "[encoded data removed]",
            "text/plain": [
              "<Figure size 432x288 with 1 Axes>"
            ]
          },
          "metadata": {
            "tags": [],
            "needs_background": "light"
          }
        }
      ]
    }
  ]
}